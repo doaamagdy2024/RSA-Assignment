{
 "cells": [
  {
   "cell_type": "code",
   "execution_count": 9,
   "metadata": {},
   "outputs": [],
   "source": [
    "import socket\n",
    "import threading\n",
    "import math\n",
    "import rsa\n",
    "import random as rd\n",
    "import sympy as sp\n",
    "import numpy as np"
   ]
  },
  {
   "cell_type": "code",
   "execution_count": 37,
   "metadata": {},
   "outputs": [],
   "source": [
    "def multiplicative_inverse(e, phi):\n",
    "    rem = [phi, e]\n",
    "    quotient = [0, phi // e] # integer division\n",
    "    x = [1, 0]\n",
    "    y = [0, 1]\n",
    "\n",
    "    while(rem[1] != 1):\n",
    "        x_0 = x[1]\n",
    "        y_0 = y[1]\n",
    "        q_0 = quotient[1]\n",
    "        rem_0 = rem[1]\n",
    "\n",
    "        x[1] = x[0] - quotient[1] * x[1]\n",
    "        y[1] = y[0] - quotient[1] * y[1]\n",
    "        rem[1] = rem[0] % rem[1] \n",
    "        quotient[1] = rem_0 // rem[1]\n",
    "        \n",
    "\n",
    "        x[0] = x_0\n",
    "        y[0] = y_0\n",
    "        quotient[0] = q_0\n",
    "        rem[0] = rem_0\n",
    "    \n",
    "    d = y[1]\n",
    "    \n",
    "    return d"
   ]
  },
  {
   "cell_type": "code",
   "execution_count": 36,
   "metadata": {},
   "outputs": [],
   "source": [
    "def generate_keys():\n",
    "    p = 2\n",
    "    q = 2\n",
    "    while(sp.isprime(p) == False):\n",
    "        p = rd.randint(11, 12345)  # best min number for p & q to be secure enough --> 1048576\n",
    "    while(sp.isprime(q) == False & p != q):\n",
    "        q = rd.randint(11, 12345)\n",
    "    n = p * q\n",
    "    phi = (p - 1) * (q - 1)\n",
    "    \n",
    "    # select integer e that is relatively prime to n and ranges 1 < e < n\n",
    "    e = p # initial value so that the loop runs at least once\n",
    "    while(math.gcd(e, n) != 1):\n",
    "        e = rd.randint(2, n)  # the public key is (e, n)\n",
    "    \n",
    "    # calculate d such that d * e = 1 mod phi\n",
    "    d = multiplicative_inverse(e, phi) # the private key is (d, n)\n",
    "    return e, d, n"
   ]
  },
  {
   "cell_type": "code",
   "execution_count": 41,
   "metadata": {},
   "outputs": [],
   "source": [
    "def encrypt(m, e, n):\n",
    "    c = pow(m, e, n)\n",
    "    return c\n",
    "\n",
    "\n",
    "def decrypt(c, d, n):\n",
    "    m = pow(c, d, n)\n",
    "    return m"
   ]
  },
  {
   "cell_type": "code",
   "execution_count": 50,
   "metadata": {},
   "outputs": [
    {
     "name": "stdout",
     "output_type": "stream",
     "text": [
      "1348945583448643297633\n",
      "I am doaa\n"
     ]
    }
   ],
   "source": [
    "def convert_to_int(message):\n",
    "    # Convert the message to an integer\n",
    "    message = int.from_bytes(message.encode(), byteorder='big')\n",
    "    return message\n",
    "\n",
    "def convert_to_string(message):\n",
    "    # Convert the integer to a string\n",
    "    message = message.to_bytes((message.bit_length() + 7) // 8, byteorder='big')\n",
    "    message = message.decode()\n",
    "    return message\n",
    "\n",
    "i = convert_to_int('I am doaa')\n",
    "print(i)\n",
    "print(convert_to_string(i))\n",
    "\n",
    "    "
   ]
  },
  {
   "cell_type": "code",
   "execution_count": 31,
   "metadata": {},
   "outputs": [],
   "source": [
    "def multiplicative_inverse(e, phi):\n",
    "    R = []\n",
    "    Q = []\n",
    "    X = []\n",
    "    Y = []\n",
    "    rem = [phi, e]\n",
    "    quotient = [0, phi // e] # integer division\n",
    "    x = [1, 0]\n",
    "    y = [0, 1]\n",
    "    R.append(rem[0])\n",
    "    R.append(rem[1])\n",
    "    Q.append(quotient[0])\n",
    "    Q.append(quotient[1])\n",
    "    X.append(x[0])\n",
    "    X.append(x[1])\n",
    "    Y.append(y[0])\n",
    "    Y.append(y[1])\n",
    "    while(rem[1] != 1):\n",
    "        x_0 = x[1]\n",
    "        y_0 = y[1]\n",
    "        q_0 = quotient[1]\n",
    "        rem_0 = rem[1]\n",
    "\n",
    "        x[1] = x[0] - quotient[1] * x[1]\n",
    "        y[1] = y[0] - quotient[1] * y[1]\n",
    "        rem[1] = rem[0] % rem[1] \n",
    "        quotient[1] = rem_0 // rem[1]\n",
    "        \n",
    "\n",
    "        x[0] = x_0\n",
    "        y[0] = y_0\n",
    "        quotient[0] = q_0\n",
    "        rem[0] = rem_0\n",
    "\n",
    "        R.append(rem[1])\n",
    "        Q.append(quotient[1])\n",
    "        X.append(x[1])\n",
    "        Y.append(y[1])\n",
    "    \n",
    "    d = y[1]\n",
    "\n",
    "    print(\"X: \", X)\n",
    "    print(\"Y: \", Y)\n",
    "    print(\"Q: \", Q)\n",
    "    print(\"R: \", R)\n",
    "    \n",
    "    return d"
   ]
  },
  {
   "cell_type": "code",
   "execution_count": 38,
   "metadata": {},
   "outputs": [
    {
     "name": "stdout",
     "output_type": "stream",
     "text": [
      "-111\n"
     ]
    }
   ],
   "source": [
    "print(multiplicative_inverse(1759, 550))"
   ]
  },
  {
   "cell_type": "code",
   "execution_count": 39,
   "metadata": {},
   "outputs": [
    {
     "name": "stdout",
     "output_type": "stream",
     "text": [
      "355\n"
     ]
    }
   ],
   "source": [
    "print(multiplicative_inverse(550, 1759))"
   ]
  },
  {
   "cell_type": "code",
   "execution_count": 40,
   "metadata": {},
   "outputs": [
    {
     "name": "stdout",
     "output_type": "stream",
     "text": [
      "-2\n"
     ]
    }
   ],
   "source": [
    "print(multiplicative_inverse(3, 7))"
   ]
  },
  {
   "cell_type": "code",
   "execution_count": null,
   "metadata": {},
   "outputs": [],
   "source": []
  }
 ],
 "metadata": {
  "kernelspec": {
   "display_name": "Python 3",
   "language": "python",
   "name": "python3"
  },
  "language_info": {
   "codemirror_mode": {
    "name": "ipython",
    "version": 3
   },
   "file_extension": ".py",
   "mimetype": "text/x-python",
   "name": "python",
   "nbconvert_exporter": "python",
   "pygments_lexer": "ipython3",
   "version": "3.10.1"
  },
  "orig_nbformat": 4
 },
 "nbformat": 4,
 "nbformat_minor": 2
}
