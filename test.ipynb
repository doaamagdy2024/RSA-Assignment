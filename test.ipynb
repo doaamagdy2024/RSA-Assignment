{
 "cells": [
  {
   "cell_type": "code",
   "execution_count": 5,
   "metadata": {},
   "outputs": [],
   "source": [
    "import socket\n",
    "import threading\n",
    "import math\n",
    "import rsa\n",
    "import random as rd\n",
    "import sympy as sp\n",
    "import numpy as np"
   ]
  },
  {
   "cell_type": "code",
   "execution_count": null,
   "metadata": {},
   "outputs": [],
   "source": [
    "def encrypt(m, e, n):\n",
    "    c = pow(m, e, n)\n",
    "    return c\n",
    "\n",
    "\n",
    "def decrypt(c, d, n):\n",
    "    m = pow(c, d, n)\n",
    "    return m"
   ]
  },
  {
   "cell_type": "code",
   "execution_count": 44,
   "metadata": {},
   "outputs": [
    {
     "ename": "TypeError",
     "evalue": "encrypt() missing 2 required positional arguments: 'e' and 'n'",
     "output_type": "error",
     "traceback": [
      "\u001b[1;31m---------------------------------------------------------------------------\u001b[0m",
      "\u001b[1;31mTypeError\u001b[0m                                 Traceback (most recent call last)",
      "\u001b[1;32md:\\Academic_college\\Third_Year\\Second_Term\\Cryptograhpy\\Assignment\\TA\\RSA_Repo\\RSA-Assignment\\test.ipynb Cell 3\u001b[0m in \u001b[0;36m<cell line: 38>\u001b[1;34m()\u001b[0m\n\u001b[0;32m     <a href='vscode-notebook-cell:/d%3A/Academic_college/Third_Year/Second_Term/Cryptograhpy/Assignment/TA/RSA_Repo/RSA-Assignment/test.ipynb#X20sZmlsZQ%3D%3D?line=33'>34</a>\u001b[0m     encoded_message\u001b[39m.\u001b[39m\u001b[39m__str__\u001b[39m()\n\u001b[0;32m     <a href='vscode-notebook-cell:/d%3A/Academic_college/Third_Year/Second_Term/Cryptograhpy/Assignment/TA/RSA_Repo/RSA-Assignment/test.ipynb#X20sZmlsZQ%3D%3D?line=34'>35</a>\u001b[0m     \u001b[39mreturn\u001b[39;00m encoded_message\n\u001b[1;32m---> <a href='vscode-notebook-cell:/d%3A/Academic_college/Third_Year/Second_Term/Cryptograhpy/Assignment/TA/RSA_Repo/RSA-Assignment/test.ipynb#X20sZmlsZQ%3D%3D?line=37'>38</a>\u001b[0m \u001b[39mprint\u001b[39m(encode_encrypt_message(\u001b[39m\"\u001b[39;49m\u001b[39mhello world\u001b[39;49m\u001b[39m\"\u001b[39;49m))\n",
      "\u001b[1;32md:\\Academic_college\\Third_Year\\Second_Term\\Cryptograhpy\\Assignment\\TA\\RSA_Repo\\RSA-Assignment\\test.ipynb Cell 3\u001b[0m in \u001b[0;36mencode_encrypt_message\u001b[1;34m(message)\u001b[0m\n\u001b[0;32m     <a href='vscode-notebook-cell:/d%3A/Academic_college/Third_Year/Second_Term/Cryptograhpy/Assignment/TA/RSA_Repo/RSA-Assignment/test.ipynb#X20sZmlsZQ%3D%3D?line=17'>18</a>\u001b[0m counter \u001b[39m-\u001b[39m\u001b[39m=\u001b[39m \u001b[39m1\u001b[39m\n\u001b[0;32m     <a href='vscode-notebook-cell:/d%3A/Academic_college/Third_Year/Second_Term/Cryptograhpy/Assignment/TA/RSA_Repo/RSA-Assignment/test.ipynb#X20sZmlsZQ%3D%3D?line=18'>19</a>\u001b[0m \u001b[39mif\u001b[39;00m counter \u001b[39m<\u001b[39m \u001b[39m0\u001b[39m:\n\u001b[1;32m---> <a href='vscode-notebook-cell:/d%3A/Academic_college/Third_Year/Second_Term/Cryptograhpy/Assignment/TA/RSA_Repo/RSA-Assignment/test.ipynb#X20sZmlsZQ%3D%3D?line=19'>20</a>\u001b[0m     encoded_message\u001b[39m.\u001b[39mappend(encrypt(group))\n\u001b[0;32m     <a href='vscode-notebook-cell:/d%3A/Academic_college/Third_Year/Second_Term/Cryptograhpy/Assignment/TA/RSA_Repo/RSA-Assignment/test.ipynb#X20sZmlsZQ%3D%3D?line=20'>21</a>\u001b[0m     \u001b[39m# concatenate the group to the message\u001b[39;00m\n\u001b[0;32m     <a href='vscode-notebook-cell:/d%3A/Academic_college/Third_Year/Second_Term/Cryptograhpy/Assignment/TA/RSA_Repo/RSA-Assignment/test.ipynb#X20sZmlsZQ%3D%3D?line=21'>22</a>\u001b[0m     int_message \u001b[39m=\u001b[39m \u001b[39mint\u001b[39m(int_message\u001b[39m.\u001b[39m\u001b[39m__str__\u001b[39m() \u001b[39m+\u001b[39m group\u001b[39m.\u001b[39m\u001b[39m__str__\u001b[39m())\n",
      "\u001b[1;31mTypeError\u001b[0m: encrypt() missing 2 required positional arguments: 'e' and 'n'"
     ]
    }
   ],
   "source": [
    "def encode_encrypt_message(message, e, n):\n",
    "    # convert the message to an integer\n",
    "    encoded_message = []\n",
    "    int_message = 0\n",
    "    group = 0\n",
    "    num = 0\n",
    "    counter = 4\n",
    "    i = 0\n",
    "    for char in message:\n",
    "        #i += 1\n",
    "        if(char >= '0' and char <= '9'):\n",
    "            num = ord(char) - ord('0')  # ord('0') = 48\n",
    "        elif(char >= 'a' and char <= 'z'):\n",
    "            num = ord(char) - ord('a') + 10 # ord('a') = 97\n",
    "        else:\n",
    "            num = 36  # Convert any extra characters to spaces as specified.\n",
    "        group += num * (37 ** counter)\n",
    "        counter -= 1\n",
    "        if counter < 0:\n",
    "            encoded_message.append(encrypt(group))\n",
    "            # concatenate the group to the message\n",
    "            int_message = int(int_message.__str__() + group.__str__())\n",
    "            group = 0\n",
    "            counter = 4\n",
    "        #print (i, \" \", char, \" \", num, \" \", group, \" \", int_message)\n",
    "    \n",
    "    if counter < 4:\n",
    "        while(counter != -1 ):\n",
    "            group += 36 * (37 ** counter)\n",
    "            counter -= 1\n",
    "        encoded_message.append(encrypt(group))\n",
    "        int_message = int(int_message.__str__() + group.__str__())\n",
    "\n",
    "    encoded_message.__str__()\n",
    "    return encoded_message\n",
    "\n",
    "\n",
    "print(encode_encrypt_message(\"hello world\"))"
   ]
  },
  {
   "cell_type": "code",
   "execution_count": 30,
   "metadata": {},
   "outputs": [
    {
     "name": "stdout",
     "output_type": "stream",
     "text": [
      "25593861\n",
      "41760491\n",
      "41973032\n",
      "1926221\n",
      "3852442\n",
      "5778663\n",
      "0\n",
      "2559386141760491\n",
      "2559384719571149\n"
     ]
    }
   ],
   "source": [
    "def encode_message(message):\n",
    "    # convert the message to an integer\n",
    "    int_message = 0\n",
    "    group = 0\n",
    "    num = 0\n",
    "    counter = 4\n",
    "    i = 0\n",
    "    for char in message:\n",
    "        #i += 1\n",
    "        if(char >= '0' and char <= '9'):\n",
    "            num = ord(char) - ord('0')  # ord('0') = 48\n",
    "        elif(char >= 'a' and char <= 'z'):\n",
    "            num = ord(char) - ord('a') + 10 # ord('a') = 97\n",
    "        else:\n",
    "            num = 36  # Convert any extra characters to spaces as specified.\n",
    "        group += num * (37 ** counter)\n",
    "        counter -= 1\n",
    "        if counter < 0:\n",
    "            # concatenate the group to the message\n",
    "            int_message = int(int_message.__str__() + group.__str__())\n",
    "            group = 0\n",
    "            counter = 4\n",
    "        #print (i, \" \", char, \" \", num, \" \", group, \" \", int_message)\n",
    "    \n",
    "    if counter < 4:\n",
    "        while(counter != -1 ):\n",
    "            group += 36 * (37 ** counter)\n",
    "            counter -= 1\n",
    "        int_message = int(int_message.__str__() + group.__str__())\n",
    "\n",
    "    return int_message\n",
    "\n"
   ]
  },
  {
   "cell_type": "code",
   "execution_count": 32,
   "metadata": {},
   "outputs": [
    {
     "name": "stdout",
     "output_type": "stream",
     "text": [
      "?\n"
     ]
    }
   ],
   "source": [
    "def decode_message(int_message):\n",
    "    # convert the integer message to a string\n",
    "    str_message = str(int_message)\n",
    "    \n",
    "    # initialize variables\n",
    "    message = \"\"\n",
    "    group = \"\"\n",
    "    counter = 4\n",
    "    \n",
    "    # loop through the string message\n",
    "    for char in str_message:\n",
    "        group += char\n",
    "        counter -= 1\n",
    "        \n",
    "        if counter < 0:\n",
    "            # convert the group to a number\n",
    "            num = int(group)\n",
    "            \n",
    "            if num == 0:\n",
    "                message += \" \"\n",
    "            else:\n",
    "                # convert the number to a character\n",
    "                if num <= 9:\n",
    "                    message += chr(num + ord('0'))\n",
    "                elif num <= 35:\n",
    "                    message += chr(num - 10 + ord('a'))\n",
    "                else:\n",
    "                    message += \"?\"\n",
    "            \n",
    "            group = \"\"\n",
    "            counter = 4\n",
    "    \n",
    "    return message\n",
    "\n",
    "\n",
    "print(decode_message(encode_message(\"magdy\")))"
   ]
  },
  {
   "cell_type": "code",
   "execution_count": 35,
   "metadata": {},
   "outputs": [
    {
     "name": "stdout",
     "output_type": "stream",
     "text": [
      "['doaa', 'magdy']\n"
     ]
    }
   ],
   "source": [
    "def decode_message(message):\n",
    "    # group the message into groups of 5\n",
    "    groups = message.split()\n",
    "\n",
    "    for \n",
    "    return groups\n",
    "\n",
    "print(decode_message(\"doaa magdy\"))\n"
   ]
  },
  {
   "cell_type": "code",
   "execution_count": 13,
   "metadata": {},
   "outputs": [
    {
     "name": "stdout",
     "output_type": "stream",
     "text": [
      "915\n"
     ]
    }
   ],
   "source": [
    "# test how to concatenate numbers\n",
    "a = 9\n",
    "b = 10\n",
    "concatenate = int(a.__str__() + b.__str__())\n",
    "concatenate = concatenate + 5\n",
    "print(concatenate)\n"
   ]
  },
  {
   "cell_type": "code",
   "execution_count": 36,
   "metadata": {},
   "outputs": [],
   "source": [
    "def multiplicative_inverse(e, phi):\n",
    "    rem = [phi, e]\n",
    "    quotient = [0, phi // e] # integer division\n",
    "    x = [1, 0]\n",
    "    y = [0, 1]\n",
    "\n",
    "    while(rem[1] != 1):\n",
    "        x_0 = x[1]\n",
    "        y_0 = y[1]\n",
    "        q_0 = quotient[1]\n",
    "        rem_0 = rem[1]\n",
    "\n",
    "        x[1] = x[0] - quotient[1] * x[1]\n",
    "        y[1] = y[0] - quotient[1] * y[1]\n",
    "        rem[1] = rem[0] % rem[1] \n",
    "        quotient[1] = rem_0 // rem[1]\n",
    "        \n",
    "\n",
    "        x[0] = x_0\n",
    "        y[0] = y_0\n",
    "        quotient[0] = q_0\n",
    "        rem[0] = rem_0\n",
    "    \n",
    "    d = y[1]\n",
    "    \n",
    "    return d"
   ]
  },
  {
   "cell_type": "code",
   "execution_count": 37,
   "metadata": {},
   "outputs": [],
   "source": [
    "def generate_keys():\n",
    "    p = 2\n",
    "    q = 2\n",
    "    while(sp.isprime(p) == False):\n",
    "        p = rd.randint(11, 12345)  # best min number for p & q to be secure enough --> 1048576\n",
    "    while(sp.isprime(q) == False & p != q):\n",
    "        q = rd.randint(11, 12345)\n",
    "    n = p * q\n",
    "    phi = (p - 1) * (q - 1)\n",
    "    \n",
    "    # select integer e that is relatively prime to n and ranges 1 < e < n\n",
    "    e = p # initial value so that the loop runs at least once\n",
    "    while(math.gcd(e, n) != 1):\n",
    "        e = rd.randint(2, n)  # the public key is (e, n)\n",
    "    \n",
    "    # calculate d such that d * e = 1 mod phi\n",
    "    d = multiplicative_inverse(e, phi) # the private key is (d, n)\n",
    "    return e, d, n"
   ]
  },
  {
   "cell_type": "code",
   "execution_count": 38,
   "metadata": {},
   "outputs": [],
   "source": [
    "def encrypt(m, e, n):\n",
    "    c = pow(m, e, n)\n",
    "    return c\n",
    "\n",
    "\n",
    "def decrypt(c, d, n):\n",
    "    m = pow(c, d, n)\n",
    "    return m"
   ]
  },
  {
   "cell_type": "code",
   "execution_count": 39,
   "metadata": {},
   "outputs": [
    {
     "name": "stdout",
     "output_type": "stream",
     "text": [
      "1348945583448643297633\n",
      "I am doaa\n"
     ]
    }
   ],
   "source": [
    "def convert_to_int(message):\n",
    "    # Convert the message to an integer\n",
    "    message = int.from_bytes(message.encode(), byteorder='big')\n",
    "    return message\n",
    "\n",
    "def convert_to_string(message):\n",
    "    # Convert the integer to a string\n",
    "    message = message.to_bytes((message.bit_length() + 7) // 8, byteorder='big')\n",
    "    message = message.decode()\n",
    "    return message\n",
    "\n",
    "i = convert_to_int('I am doaa')\n",
    "print(i)\n",
    "print(convert_to_string(i))\n",
    "\n",
    "    "
   ]
  },
  {
   "cell_type": "code",
   "execution_count": 40,
   "metadata": {},
   "outputs": [],
   "source": [
    "def multiplicative_inverse(e, phi):\n",
    "    R = []\n",
    "    Q = []\n",
    "    X = []\n",
    "    Y = []\n",
    "    rem = [phi, e]\n",
    "    quotient = [0, phi // e] # integer division\n",
    "    x = [1, 0]\n",
    "    y = [0, 1]\n",
    "    R.append(rem[0])\n",
    "    R.append(rem[1])\n",
    "    Q.append(quotient[0])\n",
    "    Q.append(quotient[1])\n",
    "    X.append(x[0])\n",
    "    X.append(x[1])\n",
    "    Y.append(y[0])\n",
    "    Y.append(y[1])\n",
    "    while(rem[1] != 1):\n",
    "        x_0 = x[1]\n",
    "        y_0 = y[1]\n",
    "        q_0 = quotient[1]\n",
    "        rem_0 = rem[1]\n",
    "\n",
    "        x[1] = x[0] - quotient[1] * x[1]\n",
    "        y[1] = y[0] - quotient[1] * y[1]\n",
    "        rem[1] = rem[0] % rem[1] \n",
    "        quotient[1] = rem_0 // rem[1]\n",
    "        \n",
    "\n",
    "        x[0] = x_0\n",
    "        y[0] = y_0\n",
    "        quotient[0] = q_0\n",
    "        rem[0] = rem_0\n",
    "\n",
    "        R.append(rem[1])\n",
    "        Q.append(quotient[1])\n",
    "        X.append(x[1])\n",
    "        Y.append(y[1])\n",
    "    \n",
    "    d = y[1]\n",
    "\n",
    "    print(\"X: \", X)\n",
    "    print(\"Y: \", Y)\n",
    "    print(\"Q: \", Q)\n",
    "    print(\"R: \", R)\n",
    "    \n",
    "    return d"
   ]
  },
  {
   "cell_type": "code",
   "execution_count": 41,
   "metadata": {},
   "outputs": [
    {
     "name": "stdout",
     "output_type": "stream",
     "text": [
      "X:  [1, 0, 1, -3, 16, -339, 355]\n",
      "Y:  [0, 1, 0, 1, -5, 106, -111]\n",
      "Q:  [0, 0, 3, 5, 21, 1, 4]\n",
      "R:  [550, 1759, 550, 109, 5, 4, 1]\n",
      "-111\n"
     ]
    }
   ],
   "source": [
    "print(multiplicative_inverse(1759, 550))"
   ]
  },
  {
   "cell_type": "code",
   "execution_count": 42,
   "metadata": {},
   "outputs": [
    {
     "name": "stdout",
     "output_type": "stream",
     "text": [
      "X:  [1, 0, 1, -5, 106, -111]\n",
      "Y:  [0, 1, -3, 16, -339, 355]\n",
      "Q:  [0, 3, 5, 21, 1, 4]\n",
      "R:  [1759, 550, 109, 5, 4, 1]\n",
      "355\n"
     ]
    }
   ],
   "source": [
    "print(multiplicative_inverse(550, 1759))"
   ]
  },
  {
   "cell_type": "code",
   "execution_count": 43,
   "metadata": {},
   "outputs": [
    {
     "name": "stdout",
     "output_type": "stream",
     "text": [
      "X:  [1, 0, 1]\n",
      "Y:  [0, 1, -2]\n",
      "Q:  [0, 2, 3]\n",
      "R:  [7, 3, 1]\n",
      "-2\n"
     ]
    }
   ],
   "source": [
    "print(multiplicative_inverse(3, 7))"
   ]
  },
  {
   "cell_type": "code",
   "execution_count": null,
   "metadata": {},
   "outputs": [],
   "source": [
    "def multiplicative_inverse(e, phi):\n",
    "    R = []\n",
    "    Q = []\n",
    "    X = []\n",
    "    Y = []\n",
    "    rem = [phi, e]\n",
    "    quotient = [0, phi // e] # integer division\n",
    "    x = [1, 0]\n",
    "    y = [0, 1]\n",
    "    R.append(rem[0])\n",
    "    R.append(rem[1])\n",
    "    Q.append(quotient[0])\n",
    "    Q.append(quotient[1])\n",
    "    X.append(x[0])\n",
    "    X.append(x[1])\n",
    "    Y.append(y[0])\n",
    "    Y.append(y[1])\n",
    "    i = 0\n",
    "    while(rem[1] != 1):\n",
    "        print(\"i: \", i)\n",
    "        i += 1\n",
    "        x_0 = x[1]\n",
    "        y_0 = y[1]\n",
    "        q_0 = quotient[1]\n",
    "        rem_0 = rem[1]\n",
    "\n",
    "        x[1] = x[0] - quotient[1] * x[1]\n",
    "        y[1] = y[0] - quotient[1] * y[1]\n",
    "        rem[1] = rem[0] % rem[1] \n",
    "        quotient[1] = rem_0 // rem[1]\n",
    "        \n",
    "\n",
    "        x[0] = x_0\n",
    "        y[0] = y_0\n",
    "        quotient[0] = q_0\n",
    "        rem[0] = rem_0\n",
    "\n",
    "        R.append(rem[1])\n",
    "        Q.append(quotient[1])\n",
    "        X.append(x[1])\n",
    "        Y.append(y[1])\n",
    "    \n",
    "    d = y[1]\n",
    "\n",
    "    print(\"X: \", X)\n",
    "    print(\"Y: \", Y)\n",
    "    print(\"Q: \", Q)\n",
    "    print(\"R: \", R)\n",
    "    \n",
    "    return d"
   ]
  },
  {
   "cell_type": "code",
   "execution_count": null,
   "metadata": {},
   "outputs": [],
   "source": []
  }
 ],
 "metadata": {
  "kernelspec": {
   "display_name": "Python 3",
   "language": "python",
   "name": "python3"
  },
  "language_info": {
   "codemirror_mode": {
    "name": "ipython",
    "version": 3
   },
   "file_extension": ".py",
   "mimetype": "text/x-python",
   "name": "python",
   "nbconvert_exporter": "python",
   "pygments_lexer": "ipython3",
   "version": "3.10.1"
  },
  "orig_nbformat": 4
 },
 "nbformat": 4,
 "nbformat_minor": 2
}
