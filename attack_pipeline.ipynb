{
 "cells": [
  {
   "cell_type": "code",
   "execution_count": 56,
   "metadata": {},
   "outputs": [],
   "source": [
    "import sympy as sp\n",
    "import random as rd\n",
    "import numpy as np\n",
    "import matplotlib.pyplot as plt\n",
    "import os\n",
    "import math\n",
    "import time"
   ]
  },
  {
   "cell_type": "code",
   "execution_count": 57,
   "metadata": {},
   "outputs": [],
   "source": [
    "\n",
    "def factorize_n(n):\n",
    "    # get the prime factorizatoin of n\n",
    "    a = sp.factorint(n)\n",
    "    return a\n",
    "\n",
    "\n",
    "def multiplicative_inverse(e, phi):\n",
    "    rem = [phi, e]\n",
    "    quotient = [0, phi // e] # integer division\n",
    "    x = [1, 0]\n",
    "    y = [0, 1]\n",
    "\n",
    "    while(rem[1] != 1):\n",
    "        x_0 = x[1]\n",
    "        y_0 = y[1]\n",
    "        q_0 = quotient[1]\n",
    "        rem_0 = rem[1]\n",
    "\n",
    "        x[1] = x[0] - quotient[1] * x[1]\n",
    "        y[1] = y[0] - quotient[1] * y[1]\n",
    "        rem[1] = rem[0] % rem[1] \n",
    "        quotient[1] = rem_0 // rem[1]\n",
    "        \n",
    "\n",
    "        x[0] = x_0\n",
    "        y[0] = y_0\n",
    "        quotient[0] = q_0\n",
    "        rem[0] = rem_0\n",
    "    \n",
    "    d = y[1]\n",
    "    \n",
    "    return d\n",
    "\n",
    "\n",
    "def generate_keys(p, q):\n",
    "    n = p * q\n",
    "    phi = (p - 1) * (q - 1)\n",
    "    \n",
    "    # select integer e that is relatively prime to n and ranges 1 < e < n\n",
    "    e = phi # initial value so that the loop runs at least once\n",
    "    while(math.gcd(e, phi) != 1):\n",
    "        e = rd.randint(2, phi)  # the public key is (e, n)\n",
    "    # calculate d such that d * e = 1 mod phi\n",
    "    d = multiplicative_inverse(e, phi) # the private key is (d, n)\n",
    "    return e, d, n\n",
    "\n",
    "\n",
    "def generate_pq_for_n_bits():\n",
    "    # if the file already exists, delete it\n",
    "    try:\n",
    "        os.remove(\"n_e_d.txt\")\n",
    "    except OSError:\n",
    "        pass\n",
    "    for bit in (8, 16, 32, 64):  #, 32, 64, 128, 256, 512, 1024, 2048, 4096\n",
    "        p = 4\n",
    "        q = 4\n",
    "        mini = 2 ** (bit - 1)\n",
    "        while(sp.isprime(p) == False or p < mini):\n",
    "            p = rd.getrandbits(bit)\n",
    "        while(sp.isprime(q) == False or p == q or q < mini):\n",
    "            q = rd.getrandbits(bit)\n",
    "        \n",
    "        e, d, n = generate_keys(p, q)\n",
    "        # write in the file the p, q, n in addition to the bit and the private key d\n",
    "        with open(\"n_e_d.txt\", \"a\") as f:\n",
    "            f.write(\"n: \" + str(n) + \" e: \" + str(e) + \" d: \" + str(d) + \" bit: \" + str(bit) + \"\\n\")\n",
    "\n",
    "\n",
    "\n",
    "def attack(n, e):\n",
    "    # get the prime factorization of n\n",
    "    start = time.time()\n",
    "\n",
    "    factors = factorize_n(n)\n",
    "    p = factors.popitem()[0]\n",
    "    q = factors.popitem()[0]\n",
    "    phi = (p - 1) * (q - 1)\n",
    "    d = multiplicative_inverse(e, phi)\n",
    "\n",
    "    end = time.time()\n",
    "    total_time = end - start\n",
    "\n",
    "    return d, total_time\n",
    "\n"
   ]
  },
  {
   "cell_type": "code",
   "execution_count": null,
   "metadata": {},
   "outputs": [],
   "source": []
  },
  {
   "cell_type": "code",
   "execution_count": 58,
   "metadata": {},
   "outputs": [],
   "source": [
    "def plot_to_analyze(filepath):\n",
    "    # plot the data in the file\n",
    "    with open(filepath, \"r\") as f:\n",
    "        data = f.readlines()\n",
    "        x = []\n",
    "        y = []\n",
    "        for line in data:\n",
    "            x.append(int(line.split(\" \")[1]))\n",
    "            y.append((10**3)*float(line.split(\" \")[-1]))\n",
    "        plt.plot(x, y)\n",
    "        plt.xlabel(\"n bits\")\n",
    "        plt.ylabel(\"time (ms)\")\n",
    "        plt.show()"
   ]
  },
  {
   "cell_type": "code",
   "execution_count": 59,
   "metadata": {},
   "outputs": [
    {
     "name": "stdout",
     "output_type": "stream",
     "text": [
      "The attack was successful\n",
      "The attack was successful\n",
      "The attack was successful\n",
      "The attack was successful\n"
     ]
    },
    {
     "data": {
      "image/png": "[encoded data removed]",
      "text/plain": [
       "<Figure size 640x480 with 1 Axes>"
      ]
     },
     "metadata": {},
     "output_type": "display_data"
    }
   ],
   "source": [
    "def attack_diff_n_bits():\n",
    "    generate_pq_for_n_bits()\n",
    "    # if the file already exists, delete it\n",
    "    try:\n",
    "        os.remove(\"time_bit.txt\")\n",
    "    except OSError:\n",
    "        pass\n",
    "    with open(\"n_e_d.txt\", \"r\") as f:\n",
    "        lines = f.readlines()\n",
    "        for line in lines:\n",
    "            n = int(line.split(\" \")[1])\n",
    "            e = int(line.split(\" \")[3])\n",
    "            bit = int(line.split(\" \")[7])\n",
    "            d_original = int(line.split(\" \")[5])\n",
    "            d, total_time = attack(n, e)\n",
    "            \n",
    "            # compare the original d with the one we got from the attack\n",
    "            if(d_original == d):\n",
    "                print(\"The attack was successful\")\n",
    "                # store the time and the bit in a file to compare the time it takes to attack for different n\n",
    "                with open(\"time_bit.txt\", \"a\") as f:\n",
    "                    f.write(\"bit: \" + str(bit) + \" time: \" + str(total_time) + \"\\n\")\n",
    "\n",
    "            else:\n",
    "                print(\"The attack was not successful\")\n",
    "        plot_to_analyze(\"time_bit.txt\")\n",
    "            #print(\"n: \" + str(n) + \" e: \" + str(e) + \" d: \" + str(d) + \" bit: \" + str(bit) + \" time: \" + str(total_time))\n",
    "\n",
    "attack_diff_n_bits()\n"
   ]
  },
  {
   "cell_type": "code",
   "execution_count": null,
   "metadata": {},
   "outputs": [],
   "source": []
  }
 ],
 "metadata": {
  "kernelspec": {
   "display_name": "Python 3",
   "language": "python",
   "name": "python3"
  },
  "language_info": {
   "codemirror_mode": {
    "name": "ipython",
    "version": 3
   },
   "file_extension": ".py",
   "mimetype": "text/x-python",
   "name": "python",
   "nbconvert_exporter": "python",
   "pygments_lexer": "ipython3",
   "version": "3.10.1"
  },
  "orig_nbformat": 4
 },
 "nbformat": 4,
 "nbformat_minor": 2
}
