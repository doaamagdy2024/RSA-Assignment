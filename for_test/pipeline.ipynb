{
 "cells": [
  {
   "cell_type": "code",
   "execution_count": 1,
   "metadata": {},
   "outputs": [],
   "source": [
    "import socket\n",
    "import threading\n",
    "import math\n",
    "import rsa\n",
    "import random as rd\n",
    "import sympy as sp\n",
    "import numpy as np"
   ]
  },
  {
   "cell_type": "code",
   "execution_count": 3,
   "metadata": {},
   "outputs": [],
   "source": [
    "def multiplicative_inverse(e, phi):\n",
    "    rem = [phi, e]\n",
    "    quotient = [0, phi // e] # integer division\n",
    "    x = [1, 0]\n",
    "    y = [0, 1]\n",
    "\n",
    "    while(rem[1] != 1):\n",
    "        x_0 = x[1]\n",
    "        y_0 = y[1]\n",
    "        q_0 = quotient[1]\n",
    "        rem_0 = rem[1]\n",
    "\n",
    "        x[1] = x[0] - quotient[1] * x[1]\n",
    "        y[1] = y[0] - quotient[1] * y[1]\n",
    "        rem[1] = rem[0] % rem[1] \n",
    "        quotient[1] = rem_0 // rem[1]\n",
    "        \n",
    "\n",
    "        x[0] = x_0\n",
    "        y[0] = y_0\n",
    "        quotient[0] = q_0\n",
    "        rem[0] = rem_0\n",
    "    \n",
    "    d = y[1]\n",
    "    \n",
    "    return d"
   ]
  },
  {
   "cell_type": "code",
   "execution_count": 15,
   "metadata": {},
   "outputs": [
    {
     "name": "stdout",
     "output_type": "stream",
     "text": [
      "69343956\n",
      "{2: 2, 3: 2, 11: 1, 41: 1, 4271: 1}\n",
      "facts [4271, 41, 11, 3, 2]\n",
      "4271\n"
     ]
    }
   ],
   "source": [
    "def min_limit_for_n():\n",
    "    # as we know that n must be greater than m (message)\n",
    "    # we can calculate the minimum value of n by calculating the max value of m\n",
    "    # and as we know the max value of m is the max value of a group consisting of spaces (36)\n",
    "    # so apply the formula group = sum(37^i) * 36 for i from 4 to 1\n",
    "    mini = 0\n",
    "    for i in range(0, 5):\n",
    "        mini += 37**i\n",
    "    mini *= 36\n",
    "    return mini\n",
    "\n",
    "def factorize_n(n):\n",
    "    # get the prime factorizatoin of n\n",
    "    a = sp.factorint(n)\n",
    "    return a\n",
    "\n",
    "def min_limit_for_p_q():\n",
    "    # hint: min n is not a product of two primes as it is the max value of m (just only) (i.e., min n is the next product of two primes after this min_n)\n",
    "    min_n = min_limit_for_n()\n",
    "    fact_n = factorize_n(min_n)\n",
    "    facts = []\n",
    "    for i in range (len(fact_n)):\n",
    "        facts.append(fact_n.popitem()[0])\n",
    "    return np.max(facts)\n",
    "\n",
    "print(min_limit_for_p_q())\n"
   ]
  },
  {
   "cell_type": "code",
   "execution_count": 14,
   "metadata": {},
   "outputs": [
    {
     "name": "stdout",
     "output_type": "stream",
     "text": [
      "9223372036785431851\n",
      "9223372036854775807\n"
     ]
    }
   ],
   "source": [
    "import sys\n",
    "print((sys.maxsize - 69343956))\n",
    "print(sys.maxsize)"
   ]
  },
  {
   "cell_type": "code",
   "execution_count": 10,
   "metadata": {},
   "outputs": [
    {
     "ename": "NameError",
     "evalue": "name 'factorize_n' is not defined",
     "output_type": "error",
     "traceback": [
      "\u001b[1;31m---------------------------------------------------------------------------\u001b[0m",
      "\u001b[1;31mNameError\u001b[0m                                 Traceback (most recent call last)",
      "\u001b[1;32md:\\Academic_college\\Third_Year\\Second_Term\\Cryptograhpy\\Assignment\\TA\\RSA_Repo\\RSA-Assignment\\pipeline.ipynb Cell 5\u001b[0m in \u001b[0;36m<cell line: 1>\u001b[1;34m()\u001b[0m\n\u001b[1;32m----> <a href='vscode-notebook-cell:/d%3A/Academic_college/Third_Year/Second_Term/Cryptograhpy/Assignment/TA/RSA_Repo/RSA-Assignment/pipeline.ipynb#W4sZmlsZQ%3D%3D?line=0'>1</a>\u001b[0m \u001b[39mprint\u001b[39m(factorize_n(\u001b[39m695650755417472751654489101\u001b[39m))\n",
      "\u001b[1;31mNameError\u001b[0m: name 'factorize_n' is not defined"
     ]
    }
   ],
   "source": [
    "print(factorize_n(695650755417472751654489101))"
   ]
  },
  {
   "cell_type": "code",
   "execution_count": 6,
   "metadata": {},
   "outputs": [],
   "source": [
    "def generate_keys():\n",
    "    p = 4\n",
    "    q = 4\n",
    "    while(sp.isprime(p) == False):\n",
    "        p = rd.randint(69343956, 69343956*1000000)  # best min number for p & q to be secure enough --> 1048576\n",
    "    while(sp.isprime(q) == False or p == q):\n",
    "        q = rd.randint(69343956, 69343956*1000000)\n",
    "    n = p * q\n",
    "    phi = (p - 1) * (q - 1)\n",
    "    \n",
    "    # select integer e that is relatively prime to n and ranges 1 < e < n\n",
    "    e = phi # initial value so that the loop runs at least once\n",
    "    while(math.gcd(e, phi) != 1):\n",
    "        e = rd.randint(2, phi)  # the public key is (e, n)\n",
    "    \n",
    "    # calculate d such that d * e = 1 mod phi\n",
    "    print(\"phi: \", phi)\n",
    "    print(\"e: \", e)\n",
    "    d = multiplicative_inverse(e, phi) # the private key is (d, n)\n",
    "    print(\"p: \", p)\n",
    "    print(\"q: \", q)\n",
    "    print(\"n: \", n)\n",
    "    print(\"d: \", d)\n",
    "    return e, d, n"
   ]
  },
  {
   "cell_type": "code",
   "execution_count": 7,
   "metadata": {},
   "outputs": [],
   "source": [
    "def encrypt(m, e, n):\n",
    "    c = pow(m, e, n)\n",
    "    return c\n",
    "\n",
    "\n",
    "def decrypt(c, d, n):\n",
    "    m = pow(c, d, n)\n",
    "    return m"
   ]
  },
  {
   "cell_type": "code",
   "execution_count": 8,
   "metadata": {},
   "outputs": [
    {
     "name": "stdout",
     "output_type": "stream",
     "text": [
      "phi:  250354989869075935865516040\n",
      "e:  172425013785756484334529859\n",
      "p:  20037326857871\n",
      "q:  12494430601693\n",
      "n:  250354989869108467622975603\n",
      "d:  -38115492361041783334815941\n",
      "172425013785756484334529859 -38115492361041783334815941 250354989869108467622975603\n",
      "[196195172546961147176914402]\n"
     ]
    }
   ],
   "source": [
    "\n",
    "e, d, n = generate_keys()\n",
    "print(e, d, n)\n",
    "def encode_encrypt_message(message):\n",
    "    # convert the message to an integer\n",
    "    encoded_message = []\n",
    "    group = 0\n",
    "    num = 0\n",
    "    counter = 4\n",
    "    for char in message:\n",
    "        #i += 1\n",
    "        if(char >= '0' and char <= '9'):\n",
    "            num = ord(char) - ord('0')  # ord('0') = 48\n",
    "        elif(char >= 'a' and char <= 'z'):\n",
    "            num = ord(char) - ord('a') + 10 # ord('a') = 97\n",
    "        else:\n",
    "            num = 36  # Convert any extra characters to spaces as specified.\n",
    "        group += num * (37 ** counter)\n",
    "        counter -= 1\n",
    "        if counter < 0:\n",
    "            encoded_message.append(encrypt(group, e, n))\n",
    "            # concatenate the group to the message\n",
    "            group = 0\n",
    "            counter = 4\n",
    "    \n",
    "    if counter < 4:\n",
    "        while(counter != -1 ):\n",
    "            group += 36 * (37 ** counter)\n",
    "            counter -= 1\n",
    "        encoded_message.append(encrypt(group, e, n))\n",
    "\n",
    "    #encoded_message.__str__()\n",
    "    return encoded_message\n",
    "\n",
    "\n",
    "print(encode_encrypt_message(\"hello\"))"
   ]
  },
  {
   "cell_type": "code",
   "execution_count": 9,
   "metadata": {},
   "outputs": [
    {
     "name": "stdout",
     "output_type": "stream",
     "text": [
      "[148366254794241778161560813, 37426507321151750083077289, 112894785139988684743078680, 230262093092555104164116458]\n",
      "doaa magdy ibrahim mohamed    \n"
     ]
    }
   ],
   "source": [
    "def decode_decrypt_message(encoded_message):\n",
    "    message = \"\"\n",
    "    plain_text = []\n",
    "    encoded_message[0:] = encoded_message[0:][::-1]\n",
    "    for group in encoded_message:\n",
    "        group = decrypt(group, d, n)\n",
    "        for i in range(5):\n",
    "            num = group % (37)\n",
    "            group = group // (37)\n",
    "            if(num == 36):\n",
    "                message = ' ' + message\n",
    "            elif(num < 10):\n",
    "                message = chr(ord('0') + num) + message\n",
    "            else:\n",
    "                message = chr(ord('a') + num - 10) + message\n",
    "    return message\n",
    "\n",
    "\n",
    "print(encode_encrypt_message(\"doaa magdy ibrahiem\"))\n",
    "print(decode_decrypt_message(encode_encrypt_message(\"doaa magdy ibrahim mohamed\")))"
   ]
  },
  {
   "cell_type": "code",
   "execution_count": 10,
   "metadata": {},
   "outputs": [
    {
     "name": "stdout",
     "output_type": "stream",
     "text": [
      "phi:  114136356220000037982163672\n",
      "e:  49237200103617785626604859\n",
      "p:  5024845759007\n",
      "q:  22714399942613\n",
      "n:  114136356220027777227865291\n",
      "d:  -5737034582196442813920213\n",
      "49237200103617785626604859 -5737034582196442813920213 114136356220027777227865291\n",
      "[86532406797403071598184559]\n"
     ]
    }
   ],
   "source": [
    "\n",
    "e, d, n = generate_keys()\n",
    "print(e, d, n)\n",
    "def encode_encrypt_message(message):\n",
    "    # convert the message to an integer\n",
    "    encoded_message = []\n",
    "    group = 0\n",
    "    num = 0\n",
    "    counter = 4\n",
    "    for char in message:\n",
    "        #i += 1\n",
    "        if(char >= '0' and char <= '9'):\n",
    "            num = ord(char) - ord('0')  # ord('0') = 48\n",
    "        elif(char >= 'a' and char <= 'z'):\n",
    "            num = ord(char) - ord('a') + 10 # ord('a') = 97\n",
    "        else:\n",
    "            num = 36  # Convert any extra characters to spaces as specified.\n",
    "        group += num * (37 ** counter)\n",
    "        counter -= 1\n",
    "        if counter < 0:\n",
    "            encoded_message.append(encrypt(group, e, n))\n",
    "            # concatenate the group to the message\n",
    "            group = 0\n",
    "            counter = 4\n",
    "    \n",
    "    if counter < 4:\n",
    "        while(counter != -1 ):\n",
    "            group += 36 * (37 ** counter)\n",
    "            counter -= 1\n",
    "        encoded_message.append(encrypt(group, e, n))\n",
    "\n",
    "    #encoded_message.__str__()\n",
    "    return encoded_message\n",
    "\n",
    "\n",
    "print(encode_encrypt_message(\"hello\"))"
   ]
  },
  {
   "cell_type": "code",
   "execution_count": 11,
   "metadata": {},
   "outputs": [
    {
     "name": "stdout",
     "output_type": "stream",
     "text": [
      "200801941920071003159107129\n"
     ]
    }
   ],
   "source": [
    "def attack(n, e):\n",
    "    # get the prime factorization of n\n",
    "    factors = factorize_n(n)\n",
    "    p = factors.popitem()[0]\n",
    "    q = factors.popitem()[0]\n",
    "    phi = (p - 1) * (q - 1)\n",
    "    d = multiplicative_inverse(e, phi)\n",
    "    return d\n",
    "\n",
    "print(attack(695650755417472751654489101, 569767008426912679954303369))"
   ]
  },
  {
   "cell_type": "code",
   "execution_count": 12,
   "metadata": {},
   "outputs": [],
   "source": [
    "def generate_pq_for_n_bits():\n",
    "    for bit in (2, 8, 16, 32, 64, 128, 256, 512, 1024, 2048, 4096):\n",
    "        p = 4\n",
    "        q = 4\n",
    "        mini = 2 ** (bit - 1)\n",
    "        while(sp.isprime(p) == False or p < mini):\n",
    "            p = rd.getrandbits(bit)\n",
    "        while(sp.isprime(q) == False or p == q or q < mini):\n",
    "            q = rd.getrandbits(bit)\n",
    "\n",
    "\n"
   ]
  },
  {
   "cell_type": "code",
   "execution_count": null,
   "metadata": {},
   "outputs": [],
   "source": []
  },
  {
   "cell_type": "code",
   "execution_count": 13,
   "metadata": {},
   "outputs": [
    {
     "name": "stdout",
     "output_type": "stream",
     "text": [
      "10245\n",
      "15970\n",
      "10100000000101\n",
      "11111001100010\n",
      "1001110000001000011111101010\n",
      "1000000000000000\n"
     ]
    }
   ],
   "source": [
    "\n",
    "rbits1 = rd.getrandbits(16)\n",
    "rbits2 = rd.getrandbits(16)\n",
    "print(rbits1)\n",
    "print(rbits2)\n",
    "n = rbits1 * rbits2\n",
    "print(np.binary_repr(rbits1))\n",
    "print(np.binary_repr(rbits2))\n",
    "print(np.binary_repr(n))\n",
    "print(np.binary_repr(32768))"
   ]
  },
  {
   "cell_type": "code",
   "execution_count": null,
   "metadata": {},
   "outputs": [],
   "source": [
    "def decode_decrypt_message(encoded_message, d, n):\n",
    "    message = \"\"\n",
    "    encoded_message[0:] = encoded_message[0:][::-1]\n",
    "    for group in encoded_message:\n",
    "        group = decrypt(group, d, n)\n",
    "        for i in range(5):\n",
    "            num = group % 37\n",
    "            group = group // 37\n",
    "            if(num == 36):\n",
    "                message = ' ' + message\n",
    "            elif(num < 10):\n",
    "                message = chr(ord('0') + num) + message\n",
    "            else:\n",
    "                message = chr(ord('a') + num - 10) + message\n",
    "    return message\n"
   ]
  }
 ],
 "metadata": {
  "kernelspec": {
   "display_name": "Python 3",
   "language": "python",
   "name": "python3"
  },
  "language_info": {
   "codemirror_mode": {
    "name": "ipython",
    "version": 3
   },
   "file_extension": ".py",
   "mimetype": "text/x-python",
   "name": "python",
   "nbconvert_exporter": "python",
   "pygments_lexer": "ipython3",
   "version": "3.10.1"
  },
  "orig_nbformat": 4
 },
 "nbformat": 4,
 "nbformat_minor": 2
}
