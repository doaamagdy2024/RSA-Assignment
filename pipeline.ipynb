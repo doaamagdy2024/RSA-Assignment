{
 "cells": [
  {
   "cell_type": "code",
   "execution_count": 99,
   "metadata": {},
   "outputs": [],
   "source": [
    "import socket\n",
    "import threading\n",
    "import math\n",
    "import rsa\n",
    "import random as rd\n",
    "import sympy as sp\n",
    "import numpy as np"
   ]
  },
  {
   "cell_type": "code",
   "execution_count": 100,
   "metadata": {},
   "outputs": [],
   "source": [
    "def multiplicative_inverse(e, phi):\n",
    "    rem = [phi, e]\n",
    "    quotient = [0, phi // e] # integer division\n",
    "    x = [1, 0]\n",
    "    y = [0, 1]\n",
    "\n",
    "    while(rem[1] != 1):\n",
    "        x_0 = x[1]\n",
    "        y_0 = y[1]\n",
    "        q_0 = quotient[1]\n",
    "        rem_0 = rem[1]\n",
    "\n",
    "        x[1] = x[0] - quotient[1] * x[1]\n",
    "        y[1] = y[0] - quotient[1] * y[1]\n",
    "        rem[1] = rem[0] % rem[1] \n",
    "        quotient[1] = rem_0 // rem[1]\n",
    "        \n",
    "\n",
    "        x[0] = x_0\n",
    "        y[0] = y_0\n",
    "        quotient[0] = q_0\n",
    "        rem[0] = rem_0\n",
    "    \n",
    "    d = y[1]\n",
    "    \n",
    "    return d"
   ]
  },
  {
   "cell_type": "code",
   "execution_count": null,
   "metadata": {},
   "outputs": [],
   "source": []
  },
  {
   "cell_type": "code",
   "execution_count": 101,
   "metadata": {},
   "outputs": [],
   "source": [
    "def generate_keys():\n",
    "    p = 4\n",
    "    q = 4\n",
    "    while(sp.isprime(p) == False):\n",
    "        p = rd.randint(69343956, 69343956*1000000)  # best min number for p & q to be secure enough --> 1048576\n",
    "    while(sp.isprime(q) == False or p == q):\n",
    "        q = rd.randint(69343956, 69343956*1000000)\n",
    "    n = p * q\n",
    "    phi = (p - 1) * (q - 1)\n",
    "    \n",
    "    # select integer e that is relatively prime to n and ranges 1 < e < n\n",
    "    e = phi # initial value so that the loop runs at least once\n",
    "    while(math.gcd(e, phi) != 1):\n",
    "        e = rd.randint(2, phi)  # the public key is (e, n)\n",
    "    \n",
    "    # calculate d such that d * e = 1 mod phi\n",
    "    print(\"phi: \", phi)\n",
    "    print(\"e: \", e)\n",
    "    d = multiplicative_inverse(e, phi) # the private key is (d, n)\n",
    "    print(\"p: \", p)\n",
    "    print(\"q: \", q)\n",
    "    print(\"n: \", n)\n",
    "    print(\"d: \", d)\n",
    "    return e, d, n"
   ]
  },
  {
   "cell_type": "code",
   "execution_count": 102,
   "metadata": {},
   "outputs": [],
   "source": [
    "def encrypt(m, e, n):\n",
    "    c = pow(m, e, n)\n",
    "    return c\n",
    "\n",
    "\n",
    "def decrypt(c, d, n):\n",
    "    m = pow(c, d, n)\n",
    "    return m"
   ]
  },
  {
   "cell_type": "code",
   "execution_count": 103,
   "metadata": {},
   "outputs": [
    {
     "name": "stdout",
     "output_type": "stream",
     "text": [
      "phi:  695650755417401774989705212\n",
      "e:  569767008426912679954303369\n",
      "p:  11744470436827\n",
      "q:  59232194347063\n",
      "n:  695650755417472751654489101\n",
      "d:  200801941920071003159107129\n",
      "569767008426912679954303369 200801941920071003159107129 695650755417472751654489101\n",
      "[47645455531627201950049768]\n"
     ]
    }
   ],
   "source": [
    "\n",
    "e, d, n = generate_keys()\n",
    "print(e, d, n)\n",
    "def encode_encrypt_message(message):\n",
    "    # convert the message to an integer\n",
    "    encoded_message = []\n",
    "    group = 0\n",
    "    num = 0\n",
    "    counter = 4\n",
    "    for char in message:\n",
    "        #i += 1\n",
    "        if(char >= '0' and char <= '9'):\n",
    "            num = ord(char) - ord('0')  # ord('0') = 48\n",
    "        elif(char >= 'a' and char <= 'z'):\n",
    "            num = ord(char) - ord('a') + 10 # ord('a') = 97\n",
    "        else:\n",
    "            num = 36  # Convert any extra characters to spaces as specified.\n",
    "        group += num * (37 ** counter)\n",
    "        counter -= 1\n",
    "        if counter < 0:\n",
    "            encoded_message.append(encrypt(group, e, n))\n",
    "            # concatenate the group to the message\n",
    "            group = 0\n",
    "            counter = 4\n",
    "    \n",
    "    if counter < 4:\n",
    "        while(counter != -1 ):\n",
    "            group += 36 * (37 ** counter)\n",
    "            counter -= 1\n",
    "        encoded_message.append(encrypt(group, e, n))\n",
    "\n",
    "    #encoded_message.__str__()\n",
    "    return encoded_message\n",
    "\n",
    "\n",
    "print(encode_encrypt_message(\"hello\"))"
   ]
  },
  {
   "cell_type": "code",
   "execution_count": 104,
   "metadata": {},
   "outputs": [
    {
     "name": "stdout",
     "output_type": "stream",
     "text": [
      "[130261923782547985991402928, 354065725548896894000968475, 223943500806117593555216539, 148280975156065478244913654]\n",
      "doaa magdy ibrahim mohamed    \n"
     ]
    }
   ],
   "source": [
    "def decode_decrypt_message(encoded_message):\n",
    "    message = \"\"\n",
    "    plain_text = []\n",
    "    encoded_message[0:] = encoded_message[0:][::-1]\n",
    "    for group in encoded_message:\n",
    "        group = decrypt(group, d, n)\n",
    "        for i in range(5):\n",
    "            num = group % (37)\n",
    "            group = group // (37)\n",
    "            if(num == 36):\n",
    "                message = ' ' + message\n",
    "            elif(num < 10):\n",
    "                message = chr(ord('0') + num) + message\n",
    "            else:\n",
    "                message = chr(ord('a') + num - 10) + message\n",
    "    return message\n",
    "\n",
    "\n",
    "print(encode_encrypt_message(\"doaa magdy ibrahiem\"))\n",
    "print(decode_decrypt_message(encode_encrypt_message(\"doaa magdy ibrahim mohamed\")))"
   ]
  },
  {
   "cell_type": "code",
   "execution_count": 105,
   "metadata": {},
   "outputs": [
    {
     "name": "stdout",
     "output_type": "stream",
     "text": [
      "phi:  381994645342655938427117200\n",
      "e:  60280398119604646100261859\n",
      "p:  15156534795869\n",
      "q:  25203296827901\n",
      "n:  381994645342696298258740969\n",
      "d:  70087436139051024290463339\n",
      "60280398119604646100261859 70087436139051024290463339 381994645342696298258740969\n",
      "[66903383504604686425869196]\n"
     ]
    }
   ],
   "source": [
    "\n",
    "e, d, n = generate_keys()\n",
    "print(e, d, n)\n",
    "def encode_encrypt_message(message):\n",
    "    # convert the message to an integer\n",
    "    encoded_message = []\n",
    "    group = 0\n",
    "    num = 0\n",
    "    counter = 4\n",
    "    for char in message:\n",
    "        #i += 1\n",
    "        if(char >= '0' and char <= '9'):\n",
    "            num = ord(char) - ord('0')  # ord('0') = 48\n",
    "        elif(char >= 'a' and char <= 'z'):\n",
    "            num = ord(char) - ord('a') + 10 # ord('a') = 97\n",
    "        else:\n",
    "            num = 36  # Convert any extra characters to spaces as specified.\n",
    "        group += num * (37 ** counter)\n",
    "        counter -= 1\n",
    "        if counter < 0:\n",
    "            encoded_message.append(encrypt(group, e, n))\n",
    "            # concatenate the group to the message\n",
    "            group = 0\n",
    "            counter = 4\n",
    "    \n",
    "    if counter < 4:\n",
    "        while(counter != -1 ):\n",
    "            group += 36 * (37 ** counter)\n",
    "            counter -= 1\n",
    "        encoded_message.append(encrypt(group, e, n))\n",
    "\n",
    "    #encoded_message.__str__()\n",
    "    return encoded_message\n",
    "\n",
    "\n",
    "print(encode_encrypt_message(\"hello\"))"
   ]
  }
 ],
 "metadata": {
  "kernelspec": {
   "display_name": "Python 3",
   "language": "python",
   "name": "python3"
  },
  "language_info": {
   "codemirror_mode": {
    "name": "ipython",
    "version": 3
   },
   "file_extension": ".py",
   "mimetype": "text/x-python",
   "name": "python",
   "nbconvert_exporter": "python",
   "pygments_lexer": "ipython3",
   "version": "3.10.1"
  },
  "orig_nbformat": 4
 },
 "nbformat": 4,
 "nbformat_minor": 2
}
